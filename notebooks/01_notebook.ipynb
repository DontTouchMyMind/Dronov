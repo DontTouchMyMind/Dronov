{
 "cells": [
  {
   "cell_type": "markdown",
   "metadata": {
    "jupyter": {
     "outputs_hidden": true
    },
    "pycharm": {
     "name": "#%% md\n"
    }
   },
   "source": [
    "#### *EOFError input()*"
   ]
  },
  {
   "cell_type": "code",
   "execution_count": null,
   "metadata": {
    "collapsed": false,
    "jupyter": {
     "outputs_hidden": false
    },
    "pycharm": {
     "name": "#%%\n"
    }
   },
   "outputs": [],
   "source": [
    "try:\n",
    "    result = input('Enter your data: ')\n",
    "    print(result)\n",
    "except EOFError:\n",
    "    print('Handle the exception')"
   ]
  },
  {
   "cell_type": "markdown",
   "metadata": {},
   "source": [
    "#### *Проверка на вхождения строки*"
   ]
  },
  {
   "cell_type": "code",
   "execution_count": null,
   "metadata": {
    "collapsed": false,
    "jupyter": {
     "outputs_hidden": false
    },
    "pycharm": {
     "name": "#%%\n"
    }
   },
   "outputs": [],
   "source": [
    "'string' in 'search string'"
   ]
  },
  {
   "cell_type": "code",
   "execution_count": null,
   "metadata": {
    "collapsed": false,
    "jupyter": {
     "outputs_hidden": false
    },
    "pycharm": {
     "name": "#%%\n"
    }
   },
   "outputs": [],
   "source": [
    "'String' in 'search string'"
   ]
  },
  {
   "cell_type": "code",
   "execution_count": null,
   "metadata": {
    "collapsed": false,
    "jupyter": {
     "outputs_hidden": false
    },
    "pycharm": {
     "name": "#%%\n"
    }
   },
   "outputs": [],
   "source": [
    "2 in [1, 2, 3], 4 in [1, 2, 3]"
   ]
  },
  {
   "cell_type": "markdown",
   "metadata": {},
   "source": [
    "### *ЧИСЛА*"
   ]
  },
  {
   "cell_type": "code",
   "execution_count": null,
   "metadata": {
    "collapsed": false,
    "jupyter": {
     "outputs_hidden": false
    },
    "pycharm": {
     "name": "#%%\n"
    }
   },
   "outputs": [],
   "source": [
    "0b11111111, 0b101101    # двоичные"
   ]
  },
  {
   "cell_type": "code",
   "execution_count": null,
   "metadata": {
    "collapsed": false,
    "jupyter": {
     "outputs_hidden": false
    },
    "pycharm": {
     "name": "#%%\n"
    }
   },
   "outputs": [],
   "source": [
    "0o7, 0o12, 0o777, 0O7, 0O12,0O777    # восмеричные"
   ]
  },
  {
   "cell_type": "code",
   "execution_count": null,
   "metadata": {
    "collapsed": false,
    "jupyter": {
     "outputs_hidden": false
    },
    "pycharm": {
     "name": "#%%\n"
    }
   },
   "outputs": [],
   "source": [
    "0X9, 0xA, 0x10, 0xFFF, 0xfff    # шестнадцатиричные"
   ]
  },
  {
   "cell_type": "code",
   "execution_count": null,
   "metadata": {
    "collapsed": false,
    "jupyter": {
     "outputs_hidden": false
    },
    "pycharm": {
     "name": "#%%\n"
    }
   },
   "outputs": [],
   "source": [
    "# Если необходимо проводить операции с необходимой точностью, то необходимо использовать модуль decimal.\n",
    "from decimal import Decimal\n",
    "Decimal('0.3') - Decimal('0.1') - Decimal('0.1') - Decimal('0.1')"
   ]
  },
  {
   "cell_type": "code",
   "execution_count": null,
   "metadata": {
    "collapsed": false,
    "jupyter": {
     "outputs_hidden": false
    },
    "pycharm": {
     "name": "#%%\n"
    }
   },
   "outputs": [],
   "source": [
    "0.3 - 0.1 - 0.1 - 0.1"
   ]
  },
  {
   "cell_type": "markdown",
   "metadata": {},
   "source": [
    "### *Регулярные выражения*"
   ]
  },
  {
   "cell_type": "code",
   "execution_count": null,
   "metadata": {
    "collapsed": false,
    "jupyter": {
     "outputs_hidden": false
    },
    "pycharm": {
     "name": "#%%\n"
    }
   },
   "outputs": [],
   "source": [
    "import re\n",
    "p = re.compile(r\"^[а-яе]+$\", re.I | re.U)    # I - IGNORECASE без учета регистра.\n",
    "print('Found' if p.search('АБВГДЕЕ') else 'Not found')"
   ]
  },
  {
   "cell_type": "code",
   "execution_count": null,
   "metadata": {
    "collapsed": false,
    "jupyter": {
     "outputs_hidden": false
    },
    "pycharm": {
     "name": "#%%\n"
    }
   },
   "outputs": [],
   "source": [
    "import re\n",
    "p = re.compile(r\"^[а-яе]+$\", re.U)    # I - IGNORECASE без учета регистра.\n",
    "print('Found' if p.search('АБВГДЕЕ') else 'Not found')"
   ]
  },
  {
   "cell_type": "code",
   "execution_count": 1,
   "metadata": {
    "collapsed": false,
    "jupyter": {
     "outputs_hidden": false
    },
    "pycharm": {
     "name": "#%%\n"
    }
   },
   "outputs": [
    {
     "name": "stdin",
     "output_type": "stream",
     "text": [
      "Enter your data:  qq\n"
     ]
    },
    {
     "name": "stdout",
     "output_type": "stream",
     "text": [
      "qq\n"
     ]
    }
   ],
   "source": []
  },
  {
   "cell_type": "markdown",
   "metadata": {},
   "source": [
    "#### *Проверка на вхождения строки*"
   ]
  },
  {
   "cell_type": "code",
   "execution_count": 2,
   "metadata": {},
   "outputs": [
    {
     "data": {
      "text/plain": [
       "True"
      ]
     },
     "execution_count": 2,
     "metadata": {},
     "output_type": "execute_result"
    }
   ],
   "source": [
    "'string' in 'search string'"
   ]
  },
  {
   "cell_type": "code",
   "execution_count": 3,
   "metadata": {},
   "outputs": [
    {
     "data": {
      "text/plain": [
       "False"
      ]
     },
     "execution_count": 3,
     "metadata": {},
     "output_type": "execute_result"
    }
   ],
   "source": [
    "'String' in 'search string'"
   ]
  },
  {
   "cell_type": "code",
   "execution_count": 4,
   "metadata": {},
   "outputs": [
    {
     "data": {
      "text/plain": [
       "(True, False)"
      ]
     },
     "execution_count": 4,
     "metadata": {},
     "output_type": "execute_result"
    }
   ],
   "source": [
    "2 in [1, 2, 3], 4 in [1, 2, 3]"
   ]
  },
  {
   "cell_type": "markdown",
   "metadata": {},
   "source": [
    "### *ЧИСЛА*"
   ]
  },
  {
   "cell_type": "code",
   "execution_count": 10,
   "metadata": {},
   "outputs": [
    {
     "data": {
      "text/plain": [
       "(255, 45)"
      ]
     },
     "execution_count": 10,
     "metadata": {},
     "output_type": "execute_result"
    }
   ],
   "source": [
    "0b11111111, 0b101101    # двоичные"
   ]
  },
  {
   "cell_type": "code",
   "execution_count": 11,
   "metadata": {},
   "outputs": [
    {
     "data": {
      "text/plain": [
       "(7, 10, 511, 7, 10, 511)"
      ]
     },
     "execution_count": 11,
     "metadata": {},
     "output_type": "execute_result"
    }
   ],
   "source": [
    "0o7, 0o12, 0o777, 0O7, 0O12,0O777    # восмеричные"
   ]
  },
  {
   "cell_type": "code",
   "execution_count": 12,
   "metadata": {},
   "outputs": [
    {
     "data": {
      "text/plain": [
       "(9, 10, 16, 4095, 4095)"
      ]
     },
     "execution_count": 12,
     "metadata": {},
     "output_type": "execute_result"
    }
   ],
   "source": [
    "0X9, 0xA, 0x10, 0xFFF, 0xfff    # шестнадцатиричные"
   ]
  },
  {
   "cell_type": "code",
   "execution_count": 13,
   "metadata": {},
   "outputs": [
    {
     "data": {
      "text/plain": [
       "Decimal('0.0')"
      ]
     },
     "execution_count": 13,
     "metadata": {},
     "output_type": "execute_result"
    }
   ],
   "source": [
    "# Если необходимо проводить операции с необходимой точностью, то необходимо использовать модуль decimal.\n",
    "from decimal import Decimal\n",
    "Decimal('0.3') - Decimal('0.1') - Decimal('0.1') - Decimal('0.1')"
   ]
  },
  {
   "cell_type": "code",
   "execution_count": 14,
   "metadata": {},
   "outputs": [
    {
     "data": {
      "text/plain": [
       "-2.7755575615628914e-17"
      ]
     },
     "execution_count": 14,
     "metadata": {},
     "output_type": "execute_result"
    }
   ],
   "source": [
    "0.3 - 0.1 - 0.1 - 0.1"
   ]
  },
  {
   "cell_type": "markdown",
   "metadata": {},
   "source": [
    "### *Регулярные выражения*"
   ]
  },
  {
   "cell_type": "code",
   "execution_count": 15,
   "metadata": {},
   "outputs": [
    {
     "name": "stdout",
     "output_type": "stream",
     "text": [
      "Found\n"
     ]
    }
   ],
   "source": [
    "import re\n",
    "p = re.compile(r\"^[а-яе]+$\", re.I | re.U)    # I - IGNORECASE без учета регистра.\n",
    "print('Found' if p.search('АБВГДЕЕ') else 'Not found')"
   ]
  },
  {
   "cell_type": "code",
   "execution_count": 16,
   "metadata": {},
   "outputs": [
    {
     "name": "stdout",
     "output_type": "stream",
     "text": [
      "Not found\n"
     ]
    }
   ],
   "source": [
    "import re\n",
    "p = re.compile(r\"^[а-яе]+$\", re.U)    # I - IGNORECASE без учета регистра.\n",
    "print('Found' if p.search('АБВГДЕЕ') else 'Not found')"
   ]
  },
  {
   "cell_type": "code",
   "execution_count": null,
   "outputs": [],
   "source": [
    "import re\n",
    "p = re.compile(r\"^.$\")\n",
    "print('Found' if p.search('\\n') else 'Not found')"
   ],
   "metadata": {
    "collapsed": false,
    "pycharm": {
     "name": "#%%\n"
    }
   }
  },
  {
   "cell_type": "code",
   "execution_count": null,
   "outputs": [],
   "source": [
    "p = re.compile(r\"^.$\", re.M)    # M - Multiline\n",
    "print('Found' if p.search('\\n') else 'Not found')\n",
    "p = re.compile(r\"^.$\", re.S)    # S - Dotall\n",
    "print('Found' if p.search('\\n') else 'Not found')"
   ],
   "metadata": {
    "collapsed": false,
    "pycharm": {
     "name": "#%%\n"
    }
   }
  },
  {
   "cell_type": "code",
   "execution_count": null,
   "outputs": [],
   "source": [
    "p = re.compile(r\"\"\"^         # Привязка к началу строки.\n",
    "                   [0-9]+    # Строка должны содержать одну цифру или более.\n",
    "                   $         # Привязка к концу строки.\n",
    "               \"\"\", re.X | re.S)   # X - VERBOSE\n",
    "print('Found' if p.search('1234567890') else 'Not found')\n",
    "print('Found' if p.search('abcd123') else 'Not found')"
   ],
   "metadata": {
    "collapsed": false,
    "pycharm": {
     "name": "#%%\n"
    }
   }
  },
  {
   "cell_type": "markdown",
   "source": [
    "Проверка правильности ввода даты"
   ],
   "metadata": {
    "collapsed": false
   }
  },
  {
   "cell_type": "code",
   "execution_count": null,
   "outputs": [],
   "source": [
    "import re\n",
    "d = '29,12.2009' # Вместо точки указана запятая.\n",
    "p = re.compile(r\"^[0-3][0-9].[01][0-9].[12][09][0-9][0-9]$\") # Точка не экранирована ни \\ ни [].\n",
    "if p.search(d):\n",
    "    print('Correct date')\n",
    "else:\n",
    "    print('Incorrectly date')\n",
    "print('-'*30)\n",
    "p = re.compile(r\"^[0-3][0-9][.][01][0-9]\\.[12][09][0-9][0-9]$\") # Точка экранирована.\n",
    "if p.search(d):\n",
    "    print('Correct date')\n",
    "else:\n",
    "    print('Incorrectly date')"
   ],
   "metadata": {
    "collapsed": false,
    "pycharm": {
     "name": "#%%\n"
    }
   }
  },
  {
   "cell_type": "code",
   "execution_count": null,
   "outputs": [],
   "source": [
    "p = re.compile(r\"^.+$\") # Точка не соответствует \\n.\n",
    "print(p)\n",
    "print(type(p))"
   ],
   "metadata": {
    "collapsed": false,
    "pycharm": {
     "name": "#%%\n"
    }
   }
  },
  {
   "cell_type": "code",
   "execution_count": null,
   "outputs": [],
   "source": [
    "p.findall('str1\\nstr2\\nstr3') "
   ],
   "metadata": {
    "collapsed": false,
    "pycharm": {
     "name": "#%%\n"
    }
   }
  },
  {
   "cell_type": "code",
   "execution_count": null,
   "outputs": [],
   "source": [
    "p = re.compile(r\"^.+$\", re.S) # Теперь точка соответсвует \\n.\n",
    "p.findall('str1\\nstr2\\nstr3') # Строка полностью соответствует."
   ],
   "metadata": {
    "collapsed": false,
    "pycharm": {
     "name": "#%%\n"
    }
   }
  },
  {
   "cell_type": "code",
   "execution_count": null,
   "outputs": [],
   "source": [
    "p = re.compile(r\"^.+$\", re.M) # Многострочный режим. \n",
    "p.findall('str1\\nstr2\\nstr3') # Получили каждую подстроку."
   ],
   "metadata": {
    "collapsed": false,
    "pycharm": {
     "name": "#%%\n"
    }
   }
  },
  {
   "cell_type": "code",
   "execution_count": 2,
   "metadata": {},
   "outputs": [
    {
     "name": "stdout",
     "output_type": "stream",
     "text": [
      "Not found\n"
     ]
    }
   ],
   "source": []
  },
  {
   "cell_type": "code",
   "execution_count": 3,
   "metadata": {},
   "outputs": [
    {
     "name": "stdout",
     "output_type": "stream",
     "text": [
      "Not found\n",
      "Found\n"
     ]
    }
   ],
   "source": [
    "p = re.compile(r\"^.$\", re.M)    # M - Multiline\n",
    "print('Found' if p.search('\\n') else 'Not found')\n",
    "p = re.compile(r\"^.$\", re.S)    # S - Dotall\n",
    "print('Found' if p.search('\\n') else 'Not found')"
   ]
  },
  {
   "cell_type": "code",
   "execution_count": 5,
   "metadata": {},
   "outputs": [
    {
     "name": "stdout",
     "output_type": "stream",
     "text": [
      "Found\n",
      "Not found\n"
     ]
    }
   ],
   "source": [
    "p = re.compile(r\"\"\"^         # Привязка к началу строки.\n",
    "                   [0-9]+    # Строка должны содержать одну цифру или более.\n",
    "                   $         # Привязка к концу строки.\n",
    "               \"\"\", re.X | re.S)   # X - VERBOSE\n",
    "print('Found' if p.search('1234567890') else 'Not found')\n",
    "print('Found' if p.search('abcd123') else 'Not found')"
   ]
  },
  {
   "cell_type": "markdown",
   "metadata": {},
   "source": [
    "Проверка правильности ввода даты"
   ]
  },
  {
   "cell_type": "code",
   "execution_count": 6,
   "metadata": {},
   "outputs": [
    {
     "name": "stdout",
     "output_type": "stream",
     "text": [
      "Correct date\n",
      "------------------------------\n",
      "Incorrectly date\n"
     ]
    }
   ],
   "source": [
    "import re\n",
    "d = '29,12.2009' # Вместо точки указана запятая.\n",
    "p = re.compile(r\"^[0-3][0-9].[01][0-9].[12][09][0-9][0-9]$\") # Точка не экранирована ни \\ ни [].\n",
    "if p.search(d):\n",
    "    print('Correct date')\n",
    "else:\n",
    "    print('Incorrectly date')\n",
    "print('-'*30)\n",
    "p = re.compile(r\"^[0-3][0-9][.][01][0-9]\\.[12][09][0-9][0-9]$\") # Точка экранирована.\n",
    "if p.search(d):\n",
    "    print('Correct date')\n",
    "else:\n",
    "    print('Incorrectly date')"
   ]
  },
  {
   "cell_type": "code",
   "execution_count": 7,
   "metadata": {},
   "outputs": [
    {
     "name": "stdout",
     "output_type": "stream",
     "text": [
      "re.compile('^.+$')\n",
      "<class '_sre.SRE_Pattern'>\n"
     ]
    }
   ],
   "source": [
    "p = re.compile(r\"^.+$\") # Точка не соответствует \\n.\n",
    "print(p)\n",
    "print(type(p))"
   ]
  },
  {
   "cell_type": "code",
   "execution_count": 8,
   "metadata": {},
   "outputs": [
    {
     "data": {
      "text/plain": [
       "[]"
      ]
     },
     "execution_count": 8,
     "metadata": {},
     "output_type": "execute_result"
    }
   ],
   "source": [
    "p.findall('str1\\nstr2\\nstr3') "
   ]
  },
  {
   "cell_type": "code",
   "execution_count": 9,
   "metadata": {},
   "outputs": [
    {
     "data": {
      "text/plain": [
       "['str1\\nstr2\\nstr3']"
      ]
     },
     "execution_count": 9,
     "metadata": {},
     "output_type": "execute_result"
    }
   ],
   "source": [
    "p = re.compile(r\"^.+$\", re.S) # Теперь точка соответсвует \\n.\n",
    "p.findall('str1\\nstr2\\nstr3') # Строка полностью соответствует."
   ]
  },
  {
   "cell_type": "code",
   "execution_count": 10,
   "metadata": {},
   "outputs": [
    {
     "data": {
      "text/plain": [
       "['str1', 'str2', 'str3']"
      ]
     },
     "execution_count": 10,
     "metadata": {},
     "output_type": "execute_result"
    }
   ],
   "source": [
    "p = re.compile(r\"^.+$\", re.M) # Многострочный режим. \n",
    "p.findall('str1\\nstr2\\nstr3') # Получили каждую подстроку."
   ]
  },
  {
   "cell_type": "code",
   "execution_count": null,
   "metadata": {},
   "outputs": [],
   "source": []
  }
 ],
 "metadata": {
  "kernelspec": {
   "display_name": "Python 3",
   "language": "python",
   "name": "python3"
  },
  "language_info": {
   "codemirror_mode": {
    "name": "ipython",
    "version": 3
   },
   "file_extension": ".py",
   "mimetype": "text/x-python",
   "name": "python",
   "nbconvert_exporter": "python",
   "pygments_lexer": "ipython3",
   "version": "3.6.9"
  }
 },
 "nbformat": 4,
 "nbformat_minor": 4
}